{
 "cells": [
  {
   "cell_type": "markdown",
   "id": "9e8ec87f",
   "metadata": {},
   "source": [
    "Esta notebook contiene bloques de código útiles para el juego TacTix"
   ]
  },
  {
   "cell_type": "code",
   "execution_count": 1,
   "id": "efba46b0",
   "metadata": {},
   "outputs": [],
   "source": [
    "from tactix_env import TacTixEnv\n",
    "from trainer_agent import TrainerAgent\n",
    "from random_agent import RandomTacTixAgent\n",
    "from minimax_agent import MinimaxAgent\n",
    "import wandb\n",
    "from expectimax_agent import ExpectimaxAgent\n",
    "from play import play_vs_other_agent, run_multiple_games, plot_results"
   ]
  },
  {
   "cell_type": "code",
   "execution_count": 2,
   "id": "8f0d7150",
   "metadata": {},
   "outputs": [
    {
     "name": "stdout",
     "output_type": "stream",
     "text": [
      "O O O O O O\n",
      "O O O O O O\n",
      "O O O O O O\n",
      "O O O O O O\n",
      "O O O O O O\n",
      "O O O O O O\n",
      "Player 1's turn (Normal rules)\n",
      "\n",
      "O O O O O O\n",
      ". . . O O O\n",
      "O O O O O O\n",
      "O O O O O O\n",
      "O O O O O O\n",
      "O O O O O O\n",
      "Player 2's turn (Normal rules)\n",
      "\n"
     ]
    }
   ],
   "source": [
    "env = TacTixEnv(board_size=6, misere=False)\n",
    "obs = env.reset()\n",
    "env.render()\n",
    "\n",
    "# Example action: take from row 1, positions 0 to 2\n",
    "obs, reward, done, _ = env.step([1, 0, 2, 1])\n",
    "env.render()"
   ]
  },
  {
   "cell_type": "code",
   "execution_count": 3,
   "id": "bf0c3325",
   "metadata": {},
   "outputs": [
    {
     "data": {
      "text/plain": [
       "array([2, 1, 1, 0])"
      ]
     },
     "execution_count": 3,
     "metadata": {},
     "output_type": "execute_result"
    }
   ],
   "source": [
    "env.action_space.sample()"
   ]
  },
  {
   "cell_type": "code",
   "execution_count": 4,
   "id": "04bfff85",
   "metadata": {},
   "outputs": [
    {
     "data": {
      "text/plain": [
       "{'board': array([[1, 0, 1, 1, 0, 0],\n",
       "        [0, 1, 1, 0, 0, 0],\n",
       "        [0, 1, 0, 1, 0, 0],\n",
       "        [0, 0, 0, 0, 0, 1],\n",
       "        [0, 0, 1, 0, 1, 0],\n",
       "        [0, 0, 1, 1, 1, 0]], dtype=int32),\n",
       " 'current_player': np.int64(0)}"
      ]
     },
     "execution_count": 4,
     "metadata": {},
     "output_type": "execute_result"
    }
   ],
   "source": [
    "env.observation_space.sample()"
   ]
  },
  {
   "cell_type": "markdown",
   "id": "4116d4b1",
   "metadata": {},
   "source": [
    "Random Agents"
   ]
  },
  {
   "cell_type": "code",
   "execution_count": 5,
   "id": "bc8699f9",
   "metadata": {},
   "outputs": [
    {
     "name": "stdout",
     "output_type": "stream",
     "text": [
      "Agent 2 wins!\n"
     ]
    },
    {
     "data": {
      "text/plain": [
       "2"
      ]
     },
     "execution_count": 5,
     "metadata": {},
     "output_type": "execute_result"
    }
   ],
   "source": [
    "import importlib\n",
    "import minimax_agent\n",
    "import numpy as np  # Make sure numpy is imported\n",
    "importlib.reload(minimax_agent)\n",
    "from minimax_agent import MinimaxAgent\n",
    "\n",
    "random_agent_1 = RandomTacTixAgent(env)\n",
    "random_agent_2 = RandomTacTixAgent(env)\n",
    "minimax_agent = MinimaxAgent(env)\n",
    "\n",
    "play_vs_other_agent(env, random_agent_1, minimax_agent, render=False)"
   ]
  },
  {
   "cell_type": "markdown",
   "id": "2c96a8f7",
   "metadata": {},
   "source": [
    "Multiple Games"
   ]
  },
  {
   "cell_type": "code",
   "execution_count": 6,
   "id": "69ae4e8d",
   "metadata": {},
   "outputs": [
    {
     "data": {
      "image/png": "[encoded data removed]",
      "text/plain": [
       "<Figure size 600x400 with 1 Axes>"
      ]
     },
     "metadata": {},
     "output_type": "display_data"
    }
   ],
   "source": [
    "results = run_multiple_games(env, random_agent_1, minimax_agent, num_games=10)\n",
    "plot_results(results)"
   ]
  },
  {
   "cell_type": "code",
   "execution_count": 7,
   "id": "c0f81425",
   "metadata": {},
   "outputs": [
    {
     "name": "stdout",
     "output_type": "stream",
     "text": [
      "Expectimax vs Random:\n",
      "Agent 1 wins!\n",
      "Agent 1 wins!\n"
     ]
    },
    {
     "data": {
      "text/plain": [
       "1"
      ]
     },
     "execution_count": 7,
     "metadata": {},
     "output_type": "execute_result"
    }
   ],
   "source": [
    "import importlib\n",
    "import expectimax_agent\n",
    "import numpy as np\n",
    "importlib.reload(expectimax_agent)\n",
    "from expectimax_agent import ExpectimaxAgent\n",
    "\n",
    "# Crear un agente expectimax\n",
    "expectimax_agent = ExpectimaxAgent(env, depth=2)\n",
    "\n",
    "# Jugar contra un agente aleatorio\n",
    "print(\"Expectimax vs Random:\")\n",
    "play_vs_other_agent(env, expectimax_agent, random_agent_1, render=False)"
   ]
  },
  {
   "cell_type": "markdown",
   "id": "28d1e5ea",
   "metadata": {},
   "source": [
    "## Play vs trainer"
   ]
  },
  {
   "cell_type": "code",
   "execution_count": 13,
   "id": "315f6f56",
   "metadata": {},
   "outputs": [
    {
     "data": {
      "text/html": [
       "Finishing previous runs because reinit is set to 'default'."
      ],
      "text/plain": [
       "<IPython.core.display.HTML object>"
      ]
     },
     "metadata": {},
     "output_type": "display_data"
    },
    {
     "name": "stderr",
     "output_type": "stream",
     "text": [
      "\u001b[34m\u001b[1mwandb\u001b[0m: \u001b[32m\u001b[41mERROR\u001b[0m The nbformat package was not found. It is required to save notebook history.\n"
     ]
    },
    {
     "data": {
      "text/html": [],
      "text/plain": [
       "<IPython.core.display.HTML object>"
      ]
     },
     "metadata": {},
     "output_type": "display_data"
    },
    {
     "data": {
      "text/html": [
       "<br>    <style><br>        .wandb-row {<br>            display: flex;<br>            flex-direction: row;<br>            flex-wrap: wrap;<br>            justify-content: flex-start;<br>            width: 100%;<br>        }<br>        .wandb-col {<br>            display: flex;<br>            flex-direction: column;<br>            flex-basis: 100%;<br>            flex: 1;<br>            padding: 10px;<br>        }<br>    </style><br><div class=\"wandb-row\"><div class=\"wandb-col\"><h3>Run history:</h3><br/><table class=\"wandb\"><tr><td>agent1_wins</td><td>▃▅▅█▅▄▃▄▄▅▁</td></tr><tr><td>agent2_wins</td><td>▆▄▄▁▄▅▆▅▅▄█</td></tr><tr><td>difficulty</td><td>▁▂▂▃▄▅▅▆▇▇█</td></tr></table><br/></div><div class=\"wandb-col\"><h3>Run summary:</h3><br/><table class=\"wandb\"><tr><td>agent1_wins</td><td>0</td></tr><tr><td>agent2_wins</td><td>20</td></tr><tr><td>difficulty</td><td>1</td></tr></table><br/></div></div>"
      ],
      "text/plain": [
       "<IPython.core.display.HTML object>"
      ]
     },
     "metadata": {},
     "output_type": "display_data"
    },
    {
     "data": {
      "text/html": [
       " View run <strong style=\"color:#cdcd00\">trainer_vs_minimax</strong> at: <a href='https://wandb.ai/artificial-inteligence-ort/tactix-experiments/runs/7p1ja6bj' target=\"_blank\">https://wandb.ai/artificial-inteligence-ort/tactix-experiments/runs/7p1ja6bj</a><br> View project at: <a href='https://wandb.ai/artificial-inteligence-ort/tactix-experiments' target=\"_blank\">https://wandb.ai/artificial-inteligence-ort/tactix-experiments</a><br>Synced 5 W&B file(s), 0 media file(s), 0 artifact file(s) and 0 other file(s)"
      ],
      "text/plain": [
       "<IPython.core.display.HTML object>"
      ]
     },
     "metadata": {},
     "output_type": "display_data"
    },
    {
     "data": {
      "text/html": [
       "Find logs at: <code>./wandb/run-20250625_180956-7p1ja6bj/logs</code>"
      ],
      "text/plain": [
       "<IPython.core.display.HTML object>"
      ]
     },
     "metadata": {},
     "output_type": "display_data"
    },
    {
     "data": {
      "text/html": [
       "Tracking run with wandb version 0.20.1"
      ],
      "text/plain": [
       "<IPython.core.display.HTML object>"
      ]
     },
     "metadata": {},
     "output_type": "display_data"
    },
    {
     "data": {
      "text/html": [
       "Run data is saved locally in <code>/Users/agustinvarela/Desktop/ORT/INTELIGENCIA_ARTIFICIAL/Obligatorio/IA/tactix/wandb/run-20250625_181351-h03cpi6i</code>"
      ],
      "text/plain": [
       "<IPython.core.display.HTML object>"
      ]
     },
     "metadata": {},
     "output_type": "display_data"
    },
    {
     "data": {
      "text/html": [
       "Syncing run <strong><a href='https://wandb.ai/artificial-inteligence-ort/tactix-experiments/runs/h03cpi6i' target=\"_blank\">trainer_vs_minimax</a></strong> to <a href='https://wandb.ai/artificial-inteligence-ort/tactix-experiments' target=\"_blank\">Weights & Biases</a> (<a href='https://wandb.me/developer-guide' target=\"_blank\">docs</a>)<br>"
      ],
      "text/plain": [
       "<IPython.core.display.HTML object>"
      ]
     },
     "metadata": {},
     "output_type": "display_data"
    },
    {
     "data": {
      "text/html": [
       " View project at <a href='https://wandb.ai/artificial-inteligence-ort/tactix-experiments' target=\"_blank\">https://wandb.ai/artificial-inteligence-ort/tactix-experiments</a>"
      ],
      "text/plain": [
       "<IPython.core.display.HTML object>"
      ]
     },
     "metadata": {},
     "output_type": "display_data"
    },
    {
     "data": {
      "text/html": [
       " View run at <a href='https://wandb.ai/artificial-inteligence-ort/tactix-experiments/runs/h03cpi6i' target=\"_blank\">https://wandb.ai/artificial-inteligence-ort/tactix-experiments/runs/h03cpi6i</a>"
      ],
      "text/plain": [
       "<IPython.core.display.HTML object>"
      ]
     },
     "metadata": {},
     "output_type": "display_data"
    }
   ],
   "source": [
    "# Run a series of games with different difficulties for the TrainerAgent\n",
    "difficulties = [i / 10 for i in range(11)]\n",
    "results_summary = []\n",
    "\n",
    "total_agent1_wins=0\n",
    "total_agent2_wins=0\n",
    "\n",
    "wandb.init(project=\"tactix-experiments\", name=\"trainer_vs_minimax\")\n",
    "\n",
    "for d in difficulties:\n",
    "    agent1 = TrainerAgent(env, difficulty=d)\n",
    "    agent2 = MinimaxAgent(env)\n",
    "    \n",
    "    results = run_multiple_games(env, agent1, agent2, num_games=20)\n",
    "    results_summary.append((d, results[\"agent1_wins\"], results[\"agent2_wins\"]))\n",
    "    \n",
    "    total_agent1_wins += results[\"agent1_wins\"]\n",
    "    total_agent2_wins += results[\"agent2_wins\"]\n",
    "    \n",
    "    wandb.log({\n",
    "        \"difficulty\": d,\n",
    "        \"agent1_wins\": results[\"agent1_wins\"],\n",
    "        \"agent2_wins\": results[\"agent2_wins\"]\n",
    "    })\n",
    "    \n",
    "table= wandb.Table(data =[\n",
    "    [\"Agent1\", total_agent1_wins],\n",
    "    [\"Agent2\", total_agent2_wins]\n",
    "], columns=[\"Agent\", \"Wins\"])\n",
    "\n",
    "\n",
    "wandb.log({\"total_wins_bar_chat\": wandb.plot.bar(table, \"Agent\", \"Wins\", title=\"Total Wins by Agent\")})\n",
    "\n",
    "wandb.finish()\n",
    "    \n",
    "    "
   ]
  },
  {
   "cell_type": "code",
   "execution_count": 11,
   "id": "e9005239",
   "metadata": {},
   "outputs": [
    {
     "name": "stdout",
     "output_type": "stream",
     "text": [
      "Probability | Agent 1 Wins | Agent 2 Wins\n",
      "0.0         | 2          | 18\n",
      "0.1         | 4          | 16\n",
      "0.2         | 4          | 16\n",
      "0.3         | 7          | 13\n",
      "0.4         | 4          | 16\n",
      "0.5         | 3          | 17\n",
      "0.6         | 2          | 18\n",
      "0.7         | 3          | 17\n",
      "0.8         | 3          | 17\n",
      "0.9         | 4          | 16\n",
      "1.0         | 0          | 20\n"
     ]
    }
   ],
   "source": [
    "# Mostrar resultados\n",
    "print(\"Probability | Agent 1 Wins | Agent 2 Wins\")\n",
    "for d, agent1_wins, agent2_wins in results_summary:\n",
    "    print(f\"{d:.1f}         | {agent1_wins}          | {agent2_wins}\")"
   ]
  },
  {
   "cell_type": "code",
   "execution_count": 12,
   "id": "c1a9521e",
   "metadata": {},
   "outputs": [
    {
     "data": {
      "image/png": "[encoded data removed]",
      "text/plain": [
       "<Figure size 1000x600 with 1 Axes>"
      ]
     },
     "metadata": {},
     "output_type": "display_data"
    }
   ],
   "source": [
    "# Plot results with double bar chart\n",
    "import matplotlib.pyplot as plt\n",
    "import numpy as np\n",
    "from matplotlib.ticker import MaxNLocator  # Importar MaxNLocator para ticks de valores enteros\n",
    "\n",
    "probs = [x[0] for x in results_summary]\n",
    "agent1_wins = [x[1] for x in results_summary]\n",
    "agent2_wins = [x[2] for x in results_summary]\n",
    "\n",
    "# Set width for bars\n",
    "bar_width = 0.35\n",
    "index = np.arange(len(probs))\n",
    "\n",
    "fig, ax = plt.subplots(figsize=(10, 6))\n",
    "bar1 = plt.bar(index - bar_width/2, agent1_wins, bar_width, label='Trainer Wins')\n",
    "bar2 = plt.bar(index + bar_width/2, agent2_wins, bar_width, label='Agent Wins')\n",
    "\n",
    "# Add values on top of the bars\n",
    "for i, v in enumerate(agent1_wins):\n",
    "    plt.text(i - bar_width/2, v + 1, str(v), ha='center')\n",
    "\n",
    "for i, v in enumerate(agent2_wins):\n",
    "    plt.text(i + bar_width/2, v + 1, str(v), ha='center')\n",
    "\n",
    "# Configure the chart\n",
    "plt.xlabel('Difficulty')\n",
    "plt.ylabel('Number of Wins')\n",
    "plt.title('Agent Wins vs Difficulty Comparison')\n",
    "plt.xticks(index, [f\"{p:.1f}\" for p in probs])\n",
    "plt.legend()\n",
    "plt.tight_layout()\n",
    "plt.grid(axis='y', linestyle='--', alpha=0.7)\n",
    "\n",
    "# Configurar el eje Y para que solo muestre valores enteros\n",
    "ax.yaxis.set_major_locator(MaxNLocator(integer=True))\n",
    "\n",
    "plt.show()"
   ]
  }
 ],
 "metadata": {
  "kernelspec": {
   "display_name": ".venv",
   "language": "python",
   "name": "python3"
  },
  "language_info": {
   "codemirror_mode": {
    "name": "ipython",
    "version": 3
   },
   "file_extension": ".py",
   "mimetype": "text/x-python",
   "name": "python",
   "nbconvert_exporter": "python",
   "pygments_lexer": "ipython3",
   "version": "3.10.8"
  }
 },
 "nbformat": 4,
 "nbformat_minor": 5
}
