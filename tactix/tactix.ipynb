{
 "cells": [
  {
   "cell_type": "markdown",
   "id": "9e8ec87f",
   "metadata": {},
   "source": [
    "Esta notebook contiene bloques de código útiles para el juego TacTix"
   ]
  },
  {
   "cell_type": "code",
   "execution_count": 1,
   "id": "efba46b0",
   "metadata": {},
   "outputs": [],
   "source": [
    "from tactix_env import TacTixEnv\n",
    "from trainer_agent import TrainerAgent\n",
    "from random_agent import RandomTacTixAgent\n",
    "from minimax_agent import MinimaxAgent\n",
    "import wandb\n",
    "from expectimax_agent import ExpectimaxAgent\n",
    "from play import play_vs_other_agent, run_multiple_games, plot_results"
   ]
  },
  {
   "cell_type": "code",
   "execution_count": 2,
   "id": "8f0d7150",
   "metadata": {},
   "outputs": [
    {
     "name": "stdout",
     "output_type": "stream",
     "text": [
      "O O O O O O\n",
      "O O O O O O\n",
      "O O O O O O\n",
      "O O O O O O\n",
      "O O O O O O\n",
      "O O O O O O\n",
      "Player 1's turn (Normal rules)\n",
      "\n",
      "O O O O O O\n",
      ". . . O O O\n",
      "O O O O O O\n",
      "O O O O O O\n",
      "O O O O O O\n",
      "O O O O O O\n",
      "Player 2's turn (Normal rules)\n",
      "\n"
     ]
    }
   ],
   "source": [
    "env = TacTixEnv(board_size=6, misere=False)\n",
    "obs = env.reset()\n",
    "env.render()\n",
    "\n",
    "# Example action: take from row 1, positions 0 to 2\n",
    "obs, reward, done, _ = env.step([1, 0, 2, 1])\n",
    "env.render()"
   ]
  },
  {
   "cell_type": "code",
   "execution_count": 3,
   "id": "bf0c3325",
   "metadata": {},
   "outputs": [
    {
     "data": {
      "text/plain": [
       "array([2, 5, 4, 1])"
      ]
     },
     "execution_count": 3,
     "metadata": {},
     "output_type": "execute_result"
    }
   ],
   "source": [
    "env.action_space.sample()"
   ]
  },
  {
   "cell_type": "code",
   "execution_count": 4,
   "id": "04bfff85",
   "metadata": {},
   "outputs": [
    {
     "data": {
      "text/plain": [
       "{'board': array([[1, 0, 0, 1, 0, 1],\n",
       "        [0, 1, 0, 0, 1, 0],\n",
       "        [0, 1, 1, 1, 1, 1],\n",
       "        [0, 0, 0, 0, 0, 1],\n",
       "        [0, 0, 1, 1, 1, 1],\n",
       "        [0, 0, 0, 0, 1, 0]], dtype=int32),\n",
       " 'current_player': np.int64(0)}"
      ]
     },
     "execution_count": 4,
     "metadata": {},
     "output_type": "execute_result"
    }
   ],
   "source": [
    "env.observation_space.sample()"
   ]
  },
  {
   "cell_type": "markdown",
   "id": "4116d4b1",
   "metadata": {},
   "source": [
    "Random Agents"
   ]
  },
  {
   "cell_type": "code",
   "execution_count": 5,
   "id": "bc8699f9",
   "metadata": {},
   "outputs": [
    {
     "name": "stdout",
     "output_type": "stream",
     "text": [
      "Agent 2 wins!\n"
     ]
    },
    {
     "data": {
      "text/plain": [
       "2"
      ]
     },
     "execution_count": 5,
     "metadata": {},
     "output_type": "execute_result"
    }
   ],
   "source": [
    "import importlib\n",
    "import minimax_agent\n",
    "import numpy as np  # Make sure numpy is imported\n",
    "importlib.reload(minimax_agent)\n",
    "from minimax_agent import MinimaxAgent\n",
    "\n",
    "random_agent_1 = RandomTacTixAgent(env)\n",
    "random_agent_2 = RandomTacTixAgent(env)\n",
    "minimax_agent = MinimaxAgent(env)\n",
    "\n",
    "play_vs_other_agent(env, random_agent_1, minimax_agent, render=False)"
   ]
  },
  {
   "cell_type": "markdown",
   "id": "2c96a8f7",
   "metadata": {},
   "source": [
    "Multiple Games"
   ]
  },
  {
   "cell_type": "code",
   "execution_count": 6,
   "id": "69ae4e8d",
   "metadata": {},
   "outputs": [
    {
     "data": {
      "image/png": "[encoded data removed]",
      "text/plain": [
       "<Figure size 600x400 with 1 Axes>"
      ]
     },
     "metadata": {},
     "output_type": "display_data"
    }
   ],
   "source": [
    "results = run_multiple_games(env, random_agent_1, minimax_agent, num_games=10)\n",
    "plot_results(results)"
   ]
  },
  {
   "cell_type": "code",
   "execution_count": 7,
   "id": "c0f81425",
   "metadata": {},
   "outputs": [
    {
     "name": "stdout",
     "output_type": "stream",
     "text": [
      "Expectimax vs Random:\n",
      "Agent 2 wins!\n"
     ]
    },
    {
     "data": {
      "text/plain": [
       "2"
      ]
     },
     "execution_count": 7,
     "metadata": {},
     "output_type": "execute_result"
    }
   ],
   "source": [
    "import importlib\n",
    "import expectimax_agent\n",
    "import numpy as np\n",
    "importlib.reload(expectimax_agent)\n",
    "from expectimax_agent import ExpectimaxAgent\n",
    "\n",
    "# Crear un agente expectimax\n",
    "expectimax_agent = ExpectimaxAgent(env, depth=2)\n",
    "\n",
    "# Jugar contra un agente aleatorio\n",
    "print(\"Expectimax vs Random:\")\n",
    "play_vs_other_agent(env, expectimax_agent, random_agent_1, render=False)"
   ]
  },
  {
   "cell_type": "markdown",
   "id": "6ba629a8",
   "metadata": {},
   "source": [
    "## Play Minimax vs Trainer"
   ]
  },
  {
   "cell_type": "code",
   "execution_count": 8,
   "id": "ea138b02",
   "metadata": {},
   "outputs": [
    {
     "name": "stderr",
     "output_type": "stream",
     "text": [
      "\u001b[34m\u001b[1mwandb\u001b[0m: Currently logged in as: \u001b[33magustinvarela2606\u001b[0m (\u001b[33martificial-inteligence-ort\u001b[0m) to \u001b[32mhttps://api.wandb.ai\u001b[0m. Use \u001b[1m`wandb login --relogin`\u001b[0m to force relogin\n"
     ]
    },
    {
     "data": {
      "text/html": [
       "Tracking run with wandb version 0.20.1"
      ],
      "text/plain": [
       "<IPython.core.display.HTML object>"
      ]
     },
     "metadata": {},
     "output_type": "display_data"
    },
    {
     "data": {
      "text/html": [
       "Run data is saved locally in <code>c:\\Users\\Agu\\Desktop\\l\\ORT\\INTELIGENCIA_ARTIFICIAL\\IA\\tactix\\wandb\\run-20250713_182139-skcgd3cs</code>"
      ],
      "text/plain": [
       "<IPython.core.display.HTML object>"
      ]
     },
     "metadata": {},
     "output_type": "display_data"
    },
    {
     "data": {
      "text/html": [
       "Syncing run <strong><a href='https://wandb.ai/artificial-inteligence-ort/tactix-experiments/runs/skcgd3cs' target=\"_blank\">trainer_vs_minimax</a></strong> to <a href='https://wandb.ai/artificial-inteligence-ort/tactix-experiments' target=\"_blank\">Weights & Biases</a> (<a href='https://wandb.me/developer-guide' target=\"_blank\">docs</a>)<br>"
      ],
      "text/plain": [
       "<IPython.core.display.HTML object>"
      ]
     },
     "metadata": {},
     "output_type": "display_data"
    },
    {
     "data": {
      "text/html": [
       " View project at <a href='https://wandb.ai/artificial-inteligence-ort/tactix-experiments' target=\"_blank\">https://wandb.ai/artificial-inteligence-ort/tactix-experiments</a>"
      ],
      "text/plain": [
       "<IPython.core.display.HTML object>"
      ]
     },
     "metadata": {},
     "output_type": "display_data"
    },
    {
     "data": {
      "text/html": [
       " View run at <a href='https://wandb.ai/artificial-inteligence-ort/tactix-experiments/runs/skcgd3cs' target=\"_blank\">https://wandb.ai/artificial-inteligence-ort/tactix-experiments/runs/skcgd3cs</a>"
      ],
      "text/plain": [
       "<IPython.core.display.HTML object>"
      ]
     },
     "metadata": {},
     "output_type": "display_data"
    },
    {
     "name": "stderr",
     "output_type": "stream",
     "text": [
      "\u001b[34m\u001b[1mwandb\u001b[0m: \u001b[32m\u001b[41mERROR\u001b[0m The nbformat package was not found. It is required to save notebook history.\n"
     ]
    },
    {
     "name": "stdout",
     "output_type": "stream",
     "text": [
      "Total Agent 2 Wins: 211\n",
      "Total Agent 2 Losses: 9\n"
     ]
    },
    {
     "data": {
      "text/html": [],
      "text/plain": [
       "<IPython.core.display.HTML object>"
      ]
     },
     "metadata": {},
     "output_type": "display_data"
    },
    {
     "data": {
      "text/html": [
       "<br>    <style><br>        .wandb-row {<br>            display: flex;<br>            flex-direction: row;<br>            flex-wrap: wrap;<br>            justify-content: flex-start;<br>            width: 100%;<br>        }<br>        .wandb-col {<br>            display: flex;<br>            flex-direction: column;<br>            flex-basis: 100%;<br>            flex: 1;<br>            padding: 10px;<br>        }<br>    </style><br><div class=\"wandb-row\"><div class=\"wandb-col\"><h3>Run history:</h3><br/><table class=\"wandb\"><tr><td>agent1_wins</td><td>█▁▁▁▁▅███▁▁</td></tr><tr><td>agent2_wins</td><td>▁████▅▁▁▁██</td></tr><tr><td>difficulty</td><td>▁▂▂▃▄▅▅▆▇▇█</td></tr></table><br/></div><div class=\"wandb-col\"><h3>Run summary:</h3><br/><table class=\"wandb\"><tr><td>agent1_wins</td><td>0</td></tr><tr><td>agent2_wins</td><td>20</td></tr><tr><td>difficulty</td><td>1</td></tr></table><br/></div></div>"
      ],
      "text/plain": [
       "<IPython.core.display.HTML object>"
      ]
     },
     "metadata": {},
     "output_type": "display_data"
    },
    {
     "data": {
      "text/html": [
       " View run <strong style=\"color:#cdcd00\">trainer_vs_minimax</strong> at: <a href='https://wandb.ai/artificial-inteligence-ort/tactix-experiments/runs/skcgd3cs' target=\"_blank\">https://wandb.ai/artificial-inteligence-ort/tactix-experiments/runs/skcgd3cs</a><br> View project at: <a href='https://wandb.ai/artificial-inteligence-ort/tactix-experiments' target=\"_blank\">https://wandb.ai/artificial-inteligence-ort/tactix-experiments</a><br>Synced 5 W&B file(s), 1 media file(s), 2 artifact file(s) and 0 other file(s)"
      ],
      "text/plain": [
       "<IPython.core.display.HTML object>"
      ]
     },
     "metadata": {},
     "output_type": "display_data"
    },
    {
     "data": {
      "text/html": [
       "Find logs at: <code>.\\wandb\\run-20250713_182139-skcgd3cs\\logs</code>"
      ],
      "text/plain": [
       "<IPython.core.display.HTML object>"
      ]
     },
     "metadata": {},
     "output_type": "display_data"
    }
   ],
   "source": [
    "# Minimax. Run a series of games with different difficulties for the TrainerAgent\n",
    "difficulties = [i / 10 for i in range(11)]\n",
    "results_summary_minimax = []\n",
    "\n",
    "total_agent1_wins_minimax = 0\n",
    "total_agent2_wins_minimax = 0\n",
    "total_agent2_losses_minimax = 0\n",
    "\n",
    "wandb.init(project=\"tactix-experiments\", name=\"trainer_vs_minimax\")\n",
    "\n",
    "for d in difficulties:\n",
    "    agent1 = TrainerAgent(env, difficulty=d)\n",
    "    agent2 = MinimaxAgent(env)\n",
    "    \n",
    "    results = run_multiple_games(env, agent1, agent2, num_games=20)\n",
    "    results_summary_minimax.append((d, results[\"agent1_wins\"], results[\"agent2_wins\"]))\n",
    "    \n",
    "    total_agent1_wins_minimax += results[\"agent1_wins\"]\n",
    "    total_agent2_wins_minimax += results[\"agent2_wins\"]\n",
    "    total_agent2_losses_minimax += results[\"agent1_wins\"]\n",
    "    \n",
    "    wandb.log({\n",
    "        \"difficulty\": d,\n",
    "        \"agent1_wins\": results[\"agent1_wins\"],\n",
    "        \"agent2_wins\": results[\"agent2_wins\"]\n",
    "    })\n",
    "    \n",
    "table= wandb.Table(data =[\n",
    "    [\"Agent1\", total_agent1_wins_minimax],\n",
    "    [\"Agent2\", total_agent2_wins_minimax]\n",
    "], columns=[\"Agent\", \"Wins\"])\n",
    "\n",
    "\n",
    "wandb.log({\"total_wins_bar_chat\": wandb.plot.bar(table, \"Agent\", \"Wins\", title=\"Total Wins by Agent\")})\n",
    "\n",
    "print(f\"Total Agent 2 Wins: {total_agent2_wins_minimax}\")\n",
    "print(f\"Total Agent 2 Losses: {total_agent2_losses_minimax}\")\n",
    "\n",
    "wandb.finish()\n",
    "    \n",
    "    "
   ]
  },
  {
   "cell_type": "code",
   "execution_count": 9,
   "id": "989a6e7b",
   "metadata": {},
   "outputs": [
    {
     "data": {
      "image/png": "[encoded data removed]",
      "text/plain": [
       "<Figure size 1000x600 with 1 Axes>"
      ]
     },
     "metadata": {},
     "output_type": "display_data"
    }
   ],
   "source": [
    "# Minimax. Plot results with double bar chart\n",
    "import matplotlib.pyplot as plt\n",
    "import numpy as np\n",
    "from matplotlib.ticker import MaxNLocator  # Importar MaxNLocator para ticks de valores enteros\n",
    "\n",
    "probs = [x[0] for x in results_summary_minimax]\n",
    "agent1_wins_minimax = [x[1] for x in results_summary_minimax]\n",
    "agent2_wins_minimax = [x[2] for x in results_summary_minimax]\n",
    "\n",
    "# Set width for bars\n",
    "bar_width = 0.35\n",
    "index = np.arange(len(probs))\n",
    "\n",
    "fig, ax = plt.subplots(figsize=(10, 6))\n",
    "bar1 = plt.bar(index - bar_width/2, agent1_wins_minimax, bar_width, label='Trainer Wins')\n",
    "bar2 = plt.bar(index + bar_width/2, agent2_wins_minimax, bar_width, label='Agent Minimax Wins')\n",
    "\n",
    "# Add values on top of the bars\n",
    "for i, v in enumerate(agent1_wins_minimax):\n",
    "    plt.text(i - bar_width/2, v + 1, str(v), ha='center')\n",
    "\n",
    "for i, v in enumerate(agent2_wins_minimax):\n",
    "    plt.text(i + bar_width/2, v + 1, str(v), ha='center')\n",
    "\n",
    "# Configure the chart\n",
    "plt.xlabel('Difficulty')\n",
    "plt.ylabel('Number of Wins')\n",
    "plt.title('Agent Minimax Wins vs Difficulty Comparison')\n",
    "plt.xticks(index, [f\"{p:.1f}\" for p in probs])\n",
    "plt.legend()\n",
    "plt.tight_layout()\n",
    "plt.grid(axis='y', linestyle='--', alpha=0.7)\n",
    "\n",
    "# Configurar el eje Y para que solo muestre valores enteros\n",
    "ax.yaxis.set_major_locator(MaxNLocator(integer=True))\n",
    "\n",
    "plt.show()"
   ]
  },
  {
   "cell_type": "markdown",
   "id": "a374eb4f",
   "metadata": {},
   "source": [
    "## Guardado del agente en formato .pkl"
   ]
  },
  {
   "cell_type": "code",
   "execution_count": 10,
   "id": "b5cf0dff",
   "metadata": {},
   "outputs": [],
   "source": [
    "import pickle\n",
    "\n",
    "with open(\"minimax_agent.pkl\", \"wb\") as f:\n",
    "    pickle.dump(agent2, f)"
   ]
  },
  {
   "cell_type": "markdown",
   "id": "28d1e5ea",
   "metadata": {},
   "source": [
    "## Play Expectimax vs trainer"
   ]
  },
  {
   "cell_type": "code",
   "execution_count": 11,
   "id": "315f6f56",
   "metadata": {},
   "outputs": [
    {
     "data": {
      "text/html": [
       "Tracking run with wandb version 0.20.1"
      ],
      "text/plain": [
       "<IPython.core.display.HTML object>"
      ]
     },
     "metadata": {},
     "output_type": "display_data"
    },
    {
     "data": {
      "text/html": [
       "Run data is saved locally in <code>c:\\Users\\Agu\\Desktop\\l\\ORT\\INTELIGENCIA_ARTIFICIAL\\IA\\tactix\\wandb\\run-20250713_222841-o0nff6rh</code>"
      ],
      "text/plain": [
       "<IPython.core.display.HTML object>"
      ]
     },
     "metadata": {},
     "output_type": "display_data"
    },
    {
     "data": {
      "text/html": [
       "Syncing run <strong><a href='https://wandb.ai/artificial-inteligence-ort/tactix-experiments/runs/o0nff6rh' target=\"_blank\">trainer_vs_expectiMax</a></strong> to <a href='https://wandb.ai/artificial-inteligence-ort/tactix-experiments' target=\"_blank\">Weights & Biases</a> (<a href='https://wandb.me/developer-guide' target=\"_blank\">docs</a>)<br>"
      ],
      "text/plain": [
       "<IPython.core.display.HTML object>"
      ]
     },
     "metadata": {},
     "output_type": "display_data"
    },
    {
     "data": {
      "text/html": [
       " View project at <a href='https://wandb.ai/artificial-inteligence-ort/tactix-experiments' target=\"_blank\">https://wandb.ai/artificial-inteligence-ort/tactix-experiments</a>"
      ],
      "text/plain": [
       "<IPython.core.display.HTML object>"
      ]
     },
     "metadata": {},
     "output_type": "display_data"
    },
    {
     "data": {
      "text/html": [
       " View run at <a href='https://wandb.ai/artificial-inteligence-ort/tactix-experiments/runs/o0nff6rh' target=\"_blank\">https://wandb.ai/artificial-inteligence-ort/tactix-experiments/runs/o0nff6rh</a>"
      ],
      "text/plain": [
       "<IPython.core.display.HTML object>"
      ]
     },
     "metadata": {},
     "output_type": "display_data"
    },
    {
     "name": "stderr",
     "output_type": "stream",
     "text": [
      "\u001b[34m\u001b[1mwandb\u001b[0m: \u001b[32m\u001b[41mERROR\u001b[0m The nbformat package was not found. It is required to save notebook history.\n"
     ]
    },
    {
     "data": {
      "text/html": [],
      "text/plain": [
       "<IPython.core.display.HTML object>"
      ]
     },
     "metadata": {},
     "output_type": "display_data"
    },
    {
     "data": {
      "text/html": [
       "<br>    <style><br>        .wandb-row {<br>            display: flex;<br>            flex-direction: row;<br>            flex-wrap: wrap;<br>            justify-content: flex-start;<br>            width: 100%;<br>        }<br>        .wandb-col {<br>            display: flex;<br>            flex-direction: column;<br>            flex-basis: 100%;<br>            flex: 1;<br>            padding: 10px;<br>        }<br>    </style><br><div class=\"wandb-row\"><div class=\"wandb-col\"><h3>Run history:</h3><br/><table class=\"wandb\"><tr><td>agent1_wins</td><td>▁▁▁▂▂▁▂▃▃▆█</td></tr><tr><td>agent2_wins</td><td>███▇▇█▇▆▆▃▁</td></tr><tr><td>difficulty</td><td>▁▂▂▃▄▅▅▆▇▇█</td></tr></table><br/></div><div class=\"wandb-col\"><h3>Run summary:</h3><br/><table class=\"wandb\"><tr><td>agent1_wins</td><td>20</td></tr><tr><td>agent2_wins</td><td>0</td></tr><tr><td>difficulty</td><td>1</td></tr></table><br/></div></div>"
      ],
      "text/plain": [
       "<IPython.core.display.HTML object>"
      ]
     },
     "metadata": {},
     "output_type": "display_data"
    },
    {
     "data": {
      "text/html": [
       " View run <strong style=\"color:#cdcd00\">trainer_vs_expectiMax</strong> at: <a href='https://wandb.ai/artificial-inteligence-ort/tactix-experiments/runs/o0nff6rh' target=\"_blank\">https://wandb.ai/artificial-inteligence-ort/tactix-experiments/runs/o0nff6rh</a><br> View project at: <a href='https://wandb.ai/artificial-inteligence-ort/tactix-experiments' target=\"_blank\">https://wandb.ai/artificial-inteligence-ort/tactix-experiments</a><br>Synced 5 W&B file(s), 1 media file(s), 2 artifact file(s) and 0 other file(s)"
      ],
      "text/plain": [
       "<IPython.core.display.HTML object>"
      ]
     },
     "metadata": {},
     "output_type": "display_data"
    },
    {
     "data": {
      "text/html": [
       "Find logs at: <code>.\\wandb\\run-20250713_222841-o0nff6rh\\logs</code>"
      ],
      "text/plain": [
       "<IPython.core.display.HTML object>"
      ]
     },
     "metadata": {},
     "output_type": "display_data"
    }
   ],
   "source": [
    "# ExpectiMax. Run a series of games with different difficulties for the TrainerAgent \n",
    "difficulties = [i / 10 for i in range(11)]\n",
    "results_summary_expectimax = []\n",
    "\n",
    "total_agent1_wins_expectimax=0\n",
    "total_agent2_wins_expectimax=0\n",
    "\n",
    "wandb.init(project=\"tactix-experiments\", name=\"trainer_vs_expectiMax\")\n",
    "\n",
    "for d in difficulties:\n",
    "    agent1 = TrainerAgent(env, difficulty=d)\n",
    "    agent2 = ExpectimaxAgent(env)\n",
    "    \n",
    "    results = run_multiple_games(env, agent1, agent2, num_games=20)\n",
    "    results_summary_expectimax.append((d, results[\"agent1_wins\"], results[\"agent2_wins\"]))\n",
    "    \n",
    "    total_agent1_wins_expectimax += results[\"agent1_wins\"]\n",
    "    total_agent2_wins_expectimax += results[\"agent2_wins\"]\n",
    "    \n",
    "    wandb.log({\n",
    "        \"difficulty\": d,\n",
    "        \"agent1_wins\": results[\"agent1_wins\"],\n",
    "        \"agent2_wins\": results[\"agent2_wins\"]\n",
    "    })\n",
    "    \n",
    "table= wandb.Table(data =[\n",
    "    [\"Agent1\", total_agent1_wins_expectimax],\n",
    "    [\"Agent2\", total_agent2_wins_expectimax]\n",
    "], columns=[\"Agent\", \"Wins\"])\n",
    "\n",
    "\n",
    "wandb.log({\"total_wins_bar_chat\": wandb.plot.bar(table, \"Agent\", \"Wins\", title=\"Total Wins by Agent\")})\n",
    "\n",
    "wandb.finish()\n",
    "    \n",
    "    "
   ]
  },
  {
   "cell_type": "code",
   "execution_count": 12,
   "id": "02474123",
   "metadata": {},
   "outputs": [
    {
     "data": {
      "image/png": "[encoded data removed]",
      "text/plain": [
       "<Figure size 1000x600 with 1 Axes>"
      ]
     },
     "metadata": {},
     "output_type": "display_data"
    }
   ],
   "source": [
    "# ExpectiMax. Plot results with double bar chart\n",
    "import matplotlib.pyplot as plt\n",
    "import numpy as np\n",
    "from matplotlib.ticker import MaxNLocator  # Importar MaxNLocator para ticks de valores enteros\n",
    "\n",
    "probs = [x[0] for x in results_summary_expectimax]\n",
    "agent1_wins_expectimax = [x[1] for x in results_summary_expectimax]\n",
    "agent2_wins_expectimax = [x[2] for x in results_summary_expectimax]\n",
    "\n",
    "# Set width for bars\n",
    "bar_width = 0.35\n",
    "index = np.arange(len(probs))\n",
    "\n",
    "fig, ax = plt.subplots(figsize=(10, 6))\n",
    "bar1 = plt.bar(index - bar_width/2, agent1_wins_expectimax, bar_width, label='Trainer Wins')\n",
    "bar2 = plt.bar(index + bar_width/2, agent2_wins_expectimax, bar_width, label='Agent Expectimax Wins')\n",
    "\n",
    "# Add values on top of the bars\n",
    "for i, v in enumerate(agent1_wins_expectimax):\n",
    "    plt.text(i - bar_width/2, v + 1, str(v), ha='center')\n",
    "\n",
    "for i, v in enumerate(agent2_wins_expectimax):\n",
    "    plt.text(i + bar_width/2, v + 1, str(v), ha='center')\n",
    "\n",
    "# Configure the chart\n",
    "plt.xlabel('Difficulty')\n",
    "plt.ylabel('Number of Wins')\n",
    "plt.title('Agent Expectimax Wins vs Difficulty Comparison')\n",
    "plt.xticks(index, [f\"{p:.1f}\" for p in probs])\n",
    "plt.legend()\n",
    "plt.tight_layout()\n",
    "plt.grid(axis='y', linestyle='--', alpha=0.7)\n",
    "\n",
    "# Configurar el eje Y para que solo muestre valores enteros\n",
    "ax.yaxis.set_major_locator(MaxNLocator(integer=True))\n",
    "\n",
    "plt.show()"
   ]
  },
  {
   "cell_type": "markdown",
   "id": "0479a72a",
   "metadata": {},
   "source": [
    "# Cargado de agente en formato .pkl "
   ]
  },
  {
   "cell_type": "code",
   "execution_count": null,
   "id": "88b48740",
   "metadata": {},
   "outputs": [
    {
     "ename": "",
     "evalue": "",
     "output_type": "error",
     "traceback": [
      "\u001b[1;31mThe Kernel crashed while executing code in the current cell or a previous cell. \n",
      "\u001b[1;31mPlease review the code in the cell(s) to identify a possible cause of the failure. \n",
      "\u001b[1;31mClick <a href='https://aka.ms/vscodeJupyterKernelCrash'>here</a> for more info. \n",
      "\u001b[1;31mView Jupyter <a href='command:jupyter.viewOutput'>log</a> for further details."
     ]
    }
   ],
   "source": [
    "with open(\"minimax_agent.pkl\", \"rb\") as f:\n",
    "    loaded_agent = pickle.load(f)"
   ]
  }
 ],
 "metadata": {
  "kernelspec": {
   "display_name": "tactix-py3.10",
   "language": "python",
   "name": "python3"
  },
  "language_info": {
   "codemirror_mode": {
    "name": "ipython",
    "version": 3
   },
   "file_extension": ".py",
   "mimetype": "text/x-python",
   "name": "python",
   "nbconvert_exporter": "python",
   "pygments_lexer": "ipython3",
   "version": "3.10.11"
  }
 },
 "nbformat": 4,
 "nbformat_minor": 5
}
